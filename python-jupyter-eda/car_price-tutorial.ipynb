{
 "cells": [
  {
   "cell_type": "markdown",
   "id": "2d333341-f6de-4f51-af37-c1c857a457d2",
   "metadata": {},
   "source": [
    "# Python and Jupyter Notebook for EDA"
   ]
  },
  {
   "cell_type": "markdown",
   "id": "91eb065a-f090-44c9-9f27-b40392cdb48d",
   "metadata": {},
   "source": [
    "## Notebook shortcuts\n",
    "\n",
    "* `DD` Delete cell\n",
    "* `A` Insert cell above\n",
    "* `B` Insert cell below\n",
    "* `X` Cut cell\n",
    "* `V` Paste cell\n",
    "* `ENTER` Edit cell\n",
    "* `CTRL+ENTER` Execute cell\n",
    "* `SHIFT+ENTER` Execute cell and move to the next one"
   ]
  },
  {
   "cell_type": "markdown",
   "id": "849c040e-36d4-4c99-9357-f6fd51561e2c",
   "metadata": {},
   "source": [
    "Run shell commands (eg free/df/pip)"
   ]
  },
  {
   "cell_type": "code",
   "execution_count": null,
   "id": "dc9466d2-90d8-45d2-9028-5b6be1db7bff",
   "metadata": {},
   "outputs": [],
   "source": []
  },
  {
   "cell_type": "markdown",
   "id": "77eef098-2151-4e3a-bad4-9400d51bd8a6",
   "metadata": {},
   "source": [
    "## Data load and preparation"
   ]
  },
  {
   "cell_type": "code",
   "execution_count": null,
   "id": "0ad0a165-fbce-4503-82d0-1eeef3b3739c",
   "metadata": {},
   "outputs": [],
   "source": [
    "import pandas as pd\n",
    "import numpy as np\n",
    "import matplotlib.pyplot as plt\n",
    "import seaborn as sns"
   ]
  },
  {
   "cell_type": "markdown",
   "id": "ef589750-bf46-4397-a927-2fc318b3513e",
   "metadata": {},
   "source": [
    "Convert CSV to Panda dataframe"
   ]
  },
  {
   "cell_type": "code",
   "execution_count": null,
   "id": "ca3cb687-2dd2-4535-b9d7-a44f0a1c2efe",
   "metadata": {},
   "outputs": [],
   "source": [
    "file_path = \"car_price_dataset.csv\""
   ]
  },
  {
   "cell_type": "markdown",
   "id": "02e504a8-03a9-46b8-b829-12f1255356c1",
   "metadata": {},
   "source": [
    "Check dataframe shape (dimensions)"
   ]
  },
  {
   "cell_type": "code",
   "execution_count": null,
   "id": "0c2da6fb-51e1-48c0-bcd2-7e07fcf76e03",
   "metadata": {},
   "outputs": [],
   "source": []
  },
  {
   "cell_type": "markdown",
   "id": "0d644968-eb6f-4dfb-8786-b5ad834d6811",
   "metadata": {},
   "source": [
    "See dataframe information"
   ]
  },
  {
   "cell_type": "code",
   "execution_count": null,
   "id": "2dfdf782-4368-422f-9580-028fd71ddb87",
   "metadata": {},
   "outputs": [],
   "source": []
  },
  {
   "cell_type": "markdown",
   "id": "0c09d130-d783-4b9c-9e3a-4da5690cc77b",
   "metadata": {},
   "source": [
    "Convert brand, fule type and door columns to categorical (astype category)"
   ]
  },
  {
   "cell_type": "code",
   "execution_count": null,
   "id": "82daa793-88b0-4860-9de7-332ed37283cb",
   "metadata": {},
   "outputs": [],
   "source": []
  },
  {
   "cell_type": "markdown",
   "id": "5a02a753-4e98-4ad1-9b5f-f960c790eed0",
   "metadata": {},
   "source": [
    "Look at data types after conversion (dtypes)"
   ]
  },
  {
   "cell_type": "code",
   "execution_count": null,
   "id": "beb0fb5e-1060-485c-b2f8-53ccfadf45af",
   "metadata": {},
   "outputs": [],
   "source": []
  },
  {
   "cell_type": "markdown",
   "id": "97e34c88-0e59-45d7-9296-12869e95b7f8",
   "metadata": {},
   "source": [
    "Compare memory usage after conversion"
   ]
  },
  {
   "cell_type": "code",
   "execution_count": null,
   "id": "f37ccb2e-5c45-4405-9010-8f4d31ad78b1",
   "metadata": {},
   "outputs": [],
   "source": []
  },
  {
   "cell_type": "markdown",
   "id": "d8aa5e28-55ef-4af1-b985-df9542bcaa6e",
   "metadata": {},
   "source": [
    "## Data exploration"
   ]
  },
  {
   "cell_type": "markdown",
   "id": "9f3a1287-273c-4e4b-b24f-93aa5896d016",
   "metadata": {},
   "source": [
    "Look at the first rows of the dataframe"
   ]
  },
  {
   "cell_type": "code",
   "execution_count": null,
   "id": "a11d0ecd-8dc4-4b19-824f-8e423f4f7883",
   "metadata": {},
   "outputs": [],
   "source": []
  },
  {
   "cell_type": "markdown",
   "id": "bf0000f0-6460-438d-9dca-0970fe3b9b44",
   "metadata": {},
   "source": [
    "Look at the last row of the dataframe"
   ]
  },
  {
   "cell_type": "code",
   "execution_count": null,
   "id": "f993a710-14c6-4b65-aa58-7bd75f79e8fd",
   "metadata": {},
   "outputs": [],
   "source": []
  },
  {
   "cell_type": "markdown",
   "id": "d3e82836-5dbd-4136-98bc-bb7be6230aea",
   "metadata": {},
   "source": [
    "Show descriptive statistics"
   ]
  },
  {
   "cell_type": "code",
   "execution_count": null,
   "id": "2138f1ff-645a-4070-b8c5-fdc231586ee8",
   "metadata": {},
   "outputs": [],
   "source": []
  },
  {
   "cell_type": "code",
   "execution_count": null,
   "id": "c4aea278-fabc-4ecc-b456-0f4a273efc4d",
   "metadata": {},
   "outputs": [],
   "source": [
    "# Adjust display precision (panda set option)\n",
    "df.describe()"
   ]
  },
  {
   "cell_type": "code",
   "execution_count": null,
   "id": "e0dfe43d-c122-4603-b214-d9bbacb5d15b",
   "metadata": {},
   "outputs": [],
   "source": [
    "# Top 5 most expensive cars (n largest, count - column)\n",
    "\n",
    "# Top 5 cheapest cars (n smallest)"
   ]
  },
  {
   "cell_type": "code",
   "execution_count": null,
   "id": "ed127ac2-045c-4820-a8e8-722feb8237c5",
   "metadata": {},
   "outputs": [],
   "source": [
    "# Describe single column"
   ]
  },
  {
   "cell_type": "code",
   "execution_count": null,
   "id": "f059b4a9-75bf-4a0c-989c-04cba77fed31",
   "metadata": {},
   "outputs": [],
   "source": [
    "# Count not-null values"
   ]
  },
  {
   "cell_type": "code",
   "execution_count": null,
   "id": "a9d3942a-3241-4371-9279-88191ca84d7a",
   "metadata": {},
   "outputs": [],
   "source": [
    "# Count values in a category column (value_counts)"
   ]
  },
  {
   "cell_type": "code",
   "execution_count": null,
   "id": "8b38df5a-223d-4b5a-a605-1c951c007004",
   "metadata": {},
   "outputs": [],
   "source": [
    "# Show rows 1 to 5, columns 3 to 4 (indexed location)"
   ]
  },
  {
   "cell_type": "code",
   "execution_count": null,
   "id": "e1fc5aed-08ee-4fb1-9113-bb55cfba35ce",
   "metadata": {},
   "outputs": [],
   "source": [
    "# Sort Mileage (by, ascending)\n",
    "sorted_data.head()"
   ]
  },
  {
   "cell_type": "code",
   "execution_count": null,
   "id": "c8425872-324d-4def-8e61-139274e08878",
   "metadata": {},
   "outputs": [],
   "source": [
    "# Filter car with 5 doors and eletric (Boolean indexing, [() & ()])\n",
    "filtered_cars.head()"
   ]
  },
  {
   "cell_type": "markdown",
   "id": "17305998-21e1-4844-9e91-08d22ae465a9",
   "metadata": {},
   "source": [
    "Count cars by brand, fuel type and transmission ([[]], groupby, value counts)"
   ]
  },
  {
   "cell_type": "code",
   "execution_count": null,
   "id": "68d1ed81-18eb-4620-9695-f4be5a7df40f",
   "metadata": {},
   "outputs": [],
   "source": []
  },
  {
   "cell_type": "code",
   "execution_count": null,
   "id": "b08b8c82-1521-496f-b8cd-df56a8dffaf3",
   "metadata": {},
   "outputs": [],
   "source": [
    "# Feature engineering example (Age = current year - year)\n",
    "df[['Year', 'Age', 'Price']].head()"
   ]
  },
  {
   "cell_type": "markdown",
   "id": "3bd30754-ae9d-4d79-bb92-e88661ea74cd",
   "metadata": {},
   "source": [
    "## Data visualization"
   ]
  },
  {
   "cell_type": "code",
   "execution_count": null,
   "id": "58a3c832-6da0-42bf-aaf5-e94c27baf3b5",
   "metadata": {},
   "outputs": [],
   "source": [
    "# Plot transmission distribution as pie chart\n",
    "df[\"Transmission\"].value_counts().plot(kind=\"pie\")"
   ]
  },
  {
   "cell_type": "code",
   "execution_count": null,
   "id": "dcb6727f-0784-46a5-a330-aa690cfedfab",
   "metadata": {},
   "outputs": [],
   "source": [
    "# Show boxplot of prices\n",
    "df.boxplot(column='Price', by='Year', vert=True)\n",
    "plt.xticks(rotation=-45)\n",
    "plt.show()"
   ]
  },
  {
   "cell_type": "code",
   "execution_count": null,
   "id": "e77dcb29-e217-434d-b1e0-0476e7119658",
   "metadata": {},
   "outputs": [],
   "source": [
    "sns.scatterplot(x='Mileage', y='Price', hue='Price', data=df)\n",
    "plt.show()"
   ]
  },
  {
   "cell_type": "code",
   "execution_count": null,
   "id": "682a2187-e63a-469c-afa5-6e6471b486b8",
   "metadata": {},
   "outputs": [],
   "source": [
    "sns.histplot(df[\"Price\"], bins=30, kde=True)\n",
    "plt.show()"
   ]
  },
  {
   "cell_type": "code",
   "execution_count": null,
   "id": "ecde5f25-4543-487c-aa94-7a12b4de1ef6",
   "metadata": {},
   "outputs": [],
   "source": [
    "# Correlation heatmap (only numeric columns)\n",
    "numeric_df = df.select_dtypes(include=[np.number])\n",
    "\n",
    "# Compute the correlation matrix\n",
    "corr = numeric_df.corr()\n",
    "lower_triangle_mask = np.triu(corr, k=1)\n",
    "\n",
    "plt.figure(figsize=(10, 5))\n",
    "sns.heatmap(corr, mask=lower_triangle_mask, annot=True, cmap='coolwarm', fmt='.2f')\n",
    "plt.title(\"Feature Correlation Matrix\")\n",
    "plt.show()"
   ]
  },
  {
   "cell_type": "code",
   "execution_count": null,
   "id": "ed9e95be-640e-4edd-8c7c-3105907dcb27",
   "metadata": {},
   "outputs": [],
   "source": [
    "# Filtering Examples\n",
    "luxury_cars = df[df['Price'] > df['Price'].quantile(0.9)]\n",
    "print(\"Luxury Cars (Top 10% by Price):\")\n",
    "luxury_cars.head()"
   ]
  },
  {
   "cell_type": "code",
   "execution_count": null,
   "id": "4f984451-ea6a-450d-a0f8-2b214dd5ad61",
   "metadata": {},
   "outputs": [],
   "source": [
    "# Time Series Analysis: Average Price Per Year\n",
    "plt.figure(figsize=(10, 5))\n",
    "df.groupby('Year')['Price'].mean().plot(marker='o', linestyle='-', color='red')\n",
    "plt.title(\"Average Car Price Over the Years\")\n",
    "plt.xlabel(\"Year\")\n",
    "plt.ylabel(\"Average Price\")\n",
    "plt.grid()\n",
    "plt.show()"
   ]
  },
  {
   "cell_type": "code",
   "execution_count": null,
   "id": "b46d55c0-83ba-4e7f-a9b3-8c659c0b9353",
   "metadata": {},
   "outputs": [],
   "source": [
    "# Price Analysis\n",
    "plt.figure(figsize=(10, 5))\n",
    "sns.boxplot(x=df['Year'], y=df['Price'])\n",
    "plt.xticks(rotation=45)\n",
    "plt.title(\"Price Trends Over the Years\")\n",
    "plt.show()"
   ]
  },
  {
   "cell_type": "markdown",
   "id": "f4ea1cc7-5719-44a1-b288-69e58fb9d711",
   "metadata": {},
   "source": [
    "Export dataframe to pickle format\n"
   ]
  },
  {
   "cell_type": "code",
   "execution_count": null,
   "id": "bf3b442f-528e-4cf4-b2b3-d6b6ba972d36",
   "metadata": {},
   "outputs": [],
   "source": [
    "df.to_pickle('car_price.pkl')"
   ]
  },
  {
   "cell_type": "markdown",
   "id": "aa7bda81-55d8-41f0-8784-1635209cde9b",
   "metadata": {
    "jp-MarkdownHeadingCollapsed": true
   },
   "source": [
    "## Key Insights and Conclusions\n",
    "\n",
    "### Brand Impact on Price\n",
    "- Some brands have significantly higher average prices, indicating a strong correlation between brand reputation and car value.\n",
    "\n",
    "### Price Trends Over Time\n",
    "- Newer cars generally have higher prices, while older cars show more variation due to depreciation and condition.\n",
    "\n",
    "### Car Distribution by Brand\n",
    "- A few brands dominate the dataset, while others have a relatively small representation.\n",
    "\n",
    "### Data Considerations and Limitations\n",
    "- Additional factors like mileage, maintenance history, or regional price differences are not captured in this dataset, which could further refine insights.\n",
    "\n",
    "### Next Steps for Further Analysis\n",
    "- Use predictive modeling to estimate car prices based on historical data.\n"
   ]
  }
 ],
 "metadata": {
  "kernelspec": {
   "display_name": "Python 3 (ipykernel)",
   "language": "python",
   "name": "python3"
  },
  "language_info": {
   "codemirror_mode": {
    "name": "ipython",
    "version": 3
   },
   "file_extension": ".py",
   "mimetype": "text/x-python",
   "name": "python",
   "nbconvert_exporter": "python",
   "pygments_lexer": "ipython3",
   "version": "3.13.2"
  }
 },
 "nbformat": 4,
 "nbformat_minor": 5
}
